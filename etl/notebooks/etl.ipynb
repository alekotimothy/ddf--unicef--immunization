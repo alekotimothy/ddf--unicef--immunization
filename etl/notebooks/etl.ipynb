{
 "cells": [
  {
   "cell_type": "code",
   "execution_count": 1,
   "metadata": {},
   "outputs": [],
   "source": [
    "import pandas as pd"
   ]
  },
  {
   "cell_type": "code",
   "execution_count": 2,
   "metadata": {},
   "outputs": [],
   "source": [
    "source = '../source/wuenic2017rev_web_update.xlsx'"
   ]
  },
  {
   "cell_type": "code",
   "execution_count": 3,
   "metadata": {},
   "outputs": [],
   "source": [
    "readme = pd.read_excel(source)"
   ]
  },
  {
   "cell_type": "code",
   "execution_count": 9,
   "metadata": {},
   "outputs": [
    {
     "data": {
      "text/plain": [
       "['BCG = Percentage of live births who received bacille Calmette-Guérin (vaccine against tuberculosis)',\n",
       " 'DTP1 = Percentage of surviving infants who received the first dose of DTP containing vaccine',\n",
       " 'DTP3 = Percentage of surviving infants who received the third dose of DTP containing vaccine',\n",
       " 'HepBB = Percentage of live births who received Hepatitis B vaccine within 24 hours of birth',\n",
       " 'HepB3 = Percentage of surviving infants who received the third dose of HepB containing vaccine',\n",
       " 'Hib3 = Percentage of surviving infants who received the third dose of Hib containing vaccine',\n",
       " 'IPV1 = Percentage of surviving infants who received the first dose of inactivated polio containing vaccine',\n",
       " 'MCV1 = Percentage of surviving infants who received the first dose of measles containing vaccine',\n",
       " 'MCV2 = Percentage of children who received the second dose of measles containing vaccine as per administered in the national schedule',\n",
       " 'PCV3 = Percentage of surviving infants who received the third dose of pneumococcal conjugate vaccine',\n",
       " 'Pol3 = Percentage of surviving infants who received the third dose of polio vaccine',\n",
       " 'RCV1 = Percentage of surviving infants who received the first dose of rubella containing vaccine',\n",
       " 'RotaC = Percentage of surviving infants who received the last dose of rotavirus vaccine (2nd or 3rd dose depending on vaccine used)',\n",
       " 'YFV = Percentage of surviving infants who received a dose of yellow fever vaccine (for countries at risk of YF and where YF vaccine in the national schedule)',\n",
       " nan,\n",
       " 'For further information, visit data.unicef.org/child-health/immunization or www.who.int/immunization/monitoring_surveillance/data/en/',\n",
       " nan,\n",
       " '* Note: Countries not shown in the following pages for a given vaccine are not represented either because the vaccine has not been introduced in the country or because the country is not reporting data for the vaccine.']"
      ]
     },
     "execution_count": 9,
     "metadata": {},
     "output_type": "execute_result"
    }
   ],
   "source": [
    "readme.iloc[11:, 0].to_list()"
   ]
  },
  {
   "cell_type": "code",
   "execution_count": 16,
   "metadata": {},
   "outputs": [],
   "source": [
    "tabs = readme.iloc[11:, 0].to_list()[:-4]"
   ]
  },
  {
   "cell_type": "code",
   "execution_count": 17,
   "metadata": {},
   "outputs": [],
   "source": [
    "tabs = list(map(lambda x: x.split(' = ')[0], tabs))"
   ]
  },
  {
   "cell_type": "code",
   "execution_count": 18,
   "metadata": {},
   "outputs": [
    {
     "data": {
      "text/plain": [
       "['BCG',\n",
       " 'DTP1',\n",
       " 'DTP3',\n",
       " 'HepBB',\n",
       " 'HepB3',\n",
       " 'Hib3',\n",
       " 'IPV1',\n",
       " 'MCV1',\n",
       " 'MCV2',\n",
       " 'PCV3',\n",
       " 'Pol3',\n",
       " 'RCV1',\n",
       " 'RotaC',\n",
       " 'YFV']"
      ]
     },
     "execution_count": 18,
     "metadata": {},
     "output_type": "execute_result"
    }
   ],
   "source": [
    "tabs"
   ]
  },
  {
   "cell_type": "code",
   "execution_count": 32,
   "metadata": {},
   "outputs": [],
   "source": [
    "# fix\n",
    "tabs[-2] = 'ROTAC'"
   ]
  },
  {
   "cell_type": "code",
   "execution_count": null,
   "metadata": {},
   "outputs": [],
   "source": []
  },
  {
   "cell_type": "code",
   "execution_count": 19,
   "metadata": {},
   "outputs": [],
   "source": [
    "data1 = pd.read_excel(source, sheet_name=tabs[0])"
   ]
  },
  {
   "cell_type": "code",
   "execution_count": 21,
   "metadata": {
    "scrolled": false
   },
   "outputs": [],
   "source": [
    "df = data1.copy()\n",
    "df['country'] = df['iso3'].str.lower()\n",
    "df['vaccine'] = df['vaccine'].str.lower()\n",
    "\n",
    "df = df.drop(['unicef_region', 'iso3'], axis=1)\n",
    "\n",
    "df = df.set_index(['country', 'vaccine'])"
   ]
  },
  {
   "cell_type": "code",
   "execution_count": 26,
   "metadata": {},
   "outputs": [],
   "source": [
    "df = df.stack().reset_index()"
   ]
  },
  {
   "cell_type": "code",
   "execution_count": 28,
   "metadata": {},
   "outputs": [],
   "source": [
    "df.columns = ['country', 'vaccine', 'year', 'immunization_coverage']"
   ]
  },
  {
   "cell_type": "code",
   "execution_count": 29,
   "metadata": {
    "scrolled": true
   },
   "outputs": [
    {
     "data": {
      "text/html": [
       "<div>\n",
       "<style scoped>\n",
       "    .dataframe tbody tr th:only-of-type {\n",
       "        vertical-align: middle;\n",
       "    }\n",
       "\n",
       "    .dataframe tbody tr th {\n",
       "        vertical-align: top;\n",
       "    }\n",
       "\n",
       "    .dataframe thead th {\n",
       "        text-align: right;\n",
       "    }\n",
       "</style>\n",
       "<table border=\"1\" class=\"dataframe\">\n",
       "  <thead>\n",
       "    <tr style=\"text-align: right;\">\n",
       "      <th></th>\n",
       "      <th>country</th>\n",
       "      <th>vaccine</th>\n",
       "      <th>year</th>\n",
       "      <th>immunization_coverage</th>\n",
       "    </tr>\n",
       "  </thead>\n",
       "  <tbody>\n",
       "    <tr>\n",
       "      <th>0</th>\n",
       "      <td>afg</td>\n",
       "      <td>bcg</td>\n",
       "      <td>2017</td>\n",
       "      <td>74.0</td>\n",
       "    </tr>\n",
       "    <tr>\n",
       "      <th>1</th>\n",
       "      <td>afg</td>\n",
       "      <td>bcg</td>\n",
       "      <td>2016</td>\n",
       "      <td>74.0</td>\n",
       "    </tr>\n",
       "    <tr>\n",
       "      <th>2</th>\n",
       "      <td>afg</td>\n",
       "      <td>bcg</td>\n",
       "      <td>2015</td>\n",
       "      <td>74.0</td>\n",
       "    </tr>\n",
       "    <tr>\n",
       "      <th>3</th>\n",
       "      <td>afg</td>\n",
       "      <td>bcg</td>\n",
       "      <td>2014</td>\n",
       "      <td>74.0</td>\n",
       "    </tr>\n",
       "    <tr>\n",
       "      <th>4</th>\n",
       "      <td>afg</td>\n",
       "      <td>bcg</td>\n",
       "      <td>2013</td>\n",
       "      <td>72.0</td>\n",
       "    </tr>\n",
       "    <tr>\n",
       "      <th>5</th>\n",
       "      <td>afg</td>\n",
       "      <td>bcg</td>\n",
       "      <td>2012</td>\n",
       "      <td>78.0</td>\n",
       "    </tr>\n",
       "    <tr>\n",
       "      <th>6</th>\n",
       "      <td>afg</td>\n",
       "      <td>bcg</td>\n",
       "      <td>2011</td>\n",
       "      <td>71.0</td>\n",
       "    </tr>\n",
       "    <tr>\n",
       "      <th>7</th>\n",
       "      <td>afg</td>\n",
       "      <td>bcg</td>\n",
       "      <td>2010</td>\n",
       "      <td>68.0</td>\n",
       "    </tr>\n",
       "    <tr>\n",
       "      <th>8</th>\n",
       "      <td>afg</td>\n",
       "      <td>bcg</td>\n",
       "      <td>2009</td>\n",
       "      <td>64.0</td>\n",
       "    </tr>\n",
       "    <tr>\n",
       "      <th>9</th>\n",
       "      <td>afg</td>\n",
       "      <td>bcg</td>\n",
       "      <td>2008</td>\n",
       "      <td>66.0</td>\n",
       "    </tr>\n",
       "    <tr>\n",
       "      <th>10</th>\n",
       "      <td>afg</td>\n",
       "      <td>bcg</td>\n",
       "      <td>2007</td>\n",
       "      <td>60.0</td>\n",
       "    </tr>\n",
       "    <tr>\n",
       "      <th>11</th>\n",
       "      <td>afg</td>\n",
       "      <td>bcg</td>\n",
       "      <td>2006</td>\n",
       "      <td>60.0</td>\n",
       "    </tr>\n",
       "    <tr>\n",
       "      <th>12</th>\n",
       "      <td>afg</td>\n",
       "      <td>bcg</td>\n",
       "      <td>2005</td>\n",
       "      <td>57.0</td>\n",
       "    </tr>\n",
       "    <tr>\n",
       "      <th>13</th>\n",
       "      <td>afg</td>\n",
       "      <td>bcg</td>\n",
       "      <td>2004</td>\n",
       "      <td>51.0</td>\n",
       "    </tr>\n",
       "    <tr>\n",
       "      <th>14</th>\n",
       "      <td>afg</td>\n",
       "      <td>bcg</td>\n",
       "      <td>2003</td>\n",
       "      <td>44.0</td>\n",
       "    </tr>\n",
       "    <tr>\n",
       "      <th>15</th>\n",
       "      <td>afg</td>\n",
       "      <td>bcg</td>\n",
       "      <td>2002</td>\n",
       "      <td>46.0</td>\n",
       "    </tr>\n",
       "    <tr>\n",
       "      <th>16</th>\n",
       "      <td>afg</td>\n",
       "      <td>bcg</td>\n",
       "      <td>2001</td>\n",
       "      <td>43.0</td>\n",
       "    </tr>\n",
       "    <tr>\n",
       "      <th>17</th>\n",
       "      <td>afg</td>\n",
       "      <td>bcg</td>\n",
       "      <td>2000</td>\n",
       "      <td>30.0</td>\n",
       "    </tr>\n",
       "    <tr>\n",
       "      <th>18</th>\n",
       "      <td>afg</td>\n",
       "      <td>bcg</td>\n",
       "      <td>1999</td>\n",
       "      <td>38.0</td>\n",
       "    </tr>\n",
       "    <tr>\n",
       "      <th>19</th>\n",
       "      <td>afg</td>\n",
       "      <td>bcg</td>\n",
       "      <td>1998</td>\n",
       "      <td>35.0</td>\n",
       "    </tr>\n",
       "    <tr>\n",
       "      <th>20</th>\n",
       "      <td>afg</td>\n",
       "      <td>bcg</td>\n",
       "      <td>1997</td>\n",
       "      <td>43.0</td>\n",
       "    </tr>\n",
       "    <tr>\n",
       "      <th>21</th>\n",
       "      <td>afg</td>\n",
       "      <td>bcg</td>\n",
       "      <td>1996</td>\n",
       "      <td>47.0</td>\n",
       "    </tr>\n",
       "    <tr>\n",
       "      <th>22</th>\n",
       "      <td>afg</td>\n",
       "      <td>bcg</td>\n",
       "      <td>1995</td>\n",
       "      <td>31.0</td>\n",
       "    </tr>\n",
       "    <tr>\n",
       "      <th>23</th>\n",
       "      <td>afg</td>\n",
       "      <td>bcg</td>\n",
       "      <td>1994</td>\n",
       "      <td>15.0</td>\n",
       "    </tr>\n",
       "    <tr>\n",
       "      <th>24</th>\n",
       "      <td>afg</td>\n",
       "      <td>bcg</td>\n",
       "      <td>1993</td>\n",
       "      <td>17.0</td>\n",
       "    </tr>\n",
       "    <tr>\n",
       "      <th>25</th>\n",
       "      <td>afg</td>\n",
       "      <td>bcg</td>\n",
       "      <td>1992</td>\n",
       "      <td>19.0</td>\n",
       "    </tr>\n",
       "    <tr>\n",
       "      <th>26</th>\n",
       "      <td>afg</td>\n",
       "      <td>bcg</td>\n",
       "      <td>1991</td>\n",
       "      <td>21.0</td>\n",
       "    </tr>\n",
       "    <tr>\n",
       "      <th>27</th>\n",
       "      <td>afg</td>\n",
       "      <td>bcg</td>\n",
       "      <td>1990</td>\n",
       "      <td>30.0</td>\n",
       "    </tr>\n",
       "    <tr>\n",
       "      <th>28</th>\n",
       "      <td>afg</td>\n",
       "      <td>bcg</td>\n",
       "      <td>1989</td>\n",
       "      <td>38.0</td>\n",
       "    </tr>\n",
       "    <tr>\n",
       "      <th>29</th>\n",
       "      <td>afg</td>\n",
       "      <td>bcg</td>\n",
       "      <td>1988</td>\n",
       "      <td>40.0</td>\n",
       "    </tr>\n",
       "    <tr>\n",
       "      <th>...</th>\n",
       "      <td>...</td>\n",
       "      <td>...</td>\n",
       "      <td>...</td>\n",
       "      <td>...</td>\n",
       "    </tr>\n",
       "    <tr>\n",
       "      <th>5549</th>\n",
       "      <td>zwe</td>\n",
       "      <td>bcg</td>\n",
       "      <td>2010</td>\n",
       "      <td>99.0</td>\n",
       "    </tr>\n",
       "    <tr>\n",
       "      <th>5550</th>\n",
       "      <td>zwe</td>\n",
       "      <td>bcg</td>\n",
       "      <td>2009</td>\n",
       "      <td>90.0</td>\n",
       "    </tr>\n",
       "    <tr>\n",
       "      <th>5551</th>\n",
       "      <td>zwe</td>\n",
       "      <td>bcg</td>\n",
       "      <td>2008</td>\n",
       "      <td>91.0</td>\n",
       "    </tr>\n",
       "    <tr>\n",
       "      <th>5552</th>\n",
       "      <td>zwe</td>\n",
       "      <td>bcg</td>\n",
       "      <td>2007</td>\n",
       "      <td>87.0</td>\n",
       "    </tr>\n",
       "    <tr>\n",
       "      <th>5553</th>\n",
       "      <td>zwe</td>\n",
       "      <td>bcg</td>\n",
       "      <td>2006</td>\n",
       "      <td>84.0</td>\n",
       "    </tr>\n",
       "    <tr>\n",
       "      <th>5554</th>\n",
       "      <td>zwe</td>\n",
       "      <td>bcg</td>\n",
       "      <td>2005</td>\n",
       "      <td>80.0</td>\n",
       "    </tr>\n",
       "    <tr>\n",
       "      <th>5555</th>\n",
       "      <td>zwe</td>\n",
       "      <td>bcg</td>\n",
       "      <td>2004</td>\n",
       "      <td>76.0</td>\n",
       "    </tr>\n",
       "    <tr>\n",
       "      <th>5556</th>\n",
       "      <td>zwe</td>\n",
       "      <td>bcg</td>\n",
       "      <td>2003</td>\n",
       "      <td>78.0</td>\n",
       "    </tr>\n",
       "    <tr>\n",
       "      <th>5557</th>\n",
       "      <td>zwe</td>\n",
       "      <td>bcg</td>\n",
       "      <td>2002</td>\n",
       "      <td>80.0</td>\n",
       "    </tr>\n",
       "    <tr>\n",
       "      <th>5558</th>\n",
       "      <td>zwe</td>\n",
       "      <td>bcg</td>\n",
       "      <td>2001</td>\n",
       "      <td>82.0</td>\n",
       "    </tr>\n",
       "    <tr>\n",
       "      <th>5559</th>\n",
       "      <td>zwe</td>\n",
       "      <td>bcg</td>\n",
       "      <td>2000</td>\n",
       "      <td>84.0</td>\n",
       "    </tr>\n",
       "    <tr>\n",
       "      <th>5560</th>\n",
       "      <td>zwe</td>\n",
       "      <td>bcg</td>\n",
       "      <td>1999</td>\n",
       "      <td>86.0</td>\n",
       "    </tr>\n",
       "    <tr>\n",
       "      <th>5561</th>\n",
       "      <td>zwe</td>\n",
       "      <td>bcg</td>\n",
       "      <td>1998</td>\n",
       "      <td>88.0</td>\n",
       "    </tr>\n",
       "    <tr>\n",
       "      <th>5562</th>\n",
       "      <td>zwe</td>\n",
       "      <td>bcg</td>\n",
       "      <td>1997</td>\n",
       "      <td>92.0</td>\n",
       "    </tr>\n",
       "    <tr>\n",
       "      <th>5563</th>\n",
       "      <td>zwe</td>\n",
       "      <td>bcg</td>\n",
       "      <td>1996</td>\n",
       "      <td>96.0</td>\n",
       "    </tr>\n",
       "    <tr>\n",
       "      <th>5564</th>\n",
       "      <td>zwe</td>\n",
       "      <td>bcg</td>\n",
       "      <td>1995</td>\n",
       "      <td>96.0</td>\n",
       "    </tr>\n",
       "    <tr>\n",
       "      <th>5565</th>\n",
       "      <td>zwe</td>\n",
       "      <td>bcg</td>\n",
       "      <td>1994</td>\n",
       "      <td>95.0</td>\n",
       "    </tr>\n",
       "    <tr>\n",
       "      <th>5566</th>\n",
       "      <td>zwe</td>\n",
       "      <td>bcg</td>\n",
       "      <td>1993</td>\n",
       "      <td>95.0</td>\n",
       "    </tr>\n",
       "    <tr>\n",
       "      <th>5567</th>\n",
       "      <td>zwe</td>\n",
       "      <td>bcg</td>\n",
       "      <td>1992</td>\n",
       "      <td>91.0</td>\n",
       "    </tr>\n",
       "    <tr>\n",
       "      <th>5568</th>\n",
       "      <td>zwe</td>\n",
       "      <td>bcg</td>\n",
       "      <td>1991</td>\n",
       "      <td>91.0</td>\n",
       "    </tr>\n",
       "    <tr>\n",
       "      <th>5569</th>\n",
       "      <td>zwe</td>\n",
       "      <td>bcg</td>\n",
       "      <td>1990</td>\n",
       "      <td>91.0</td>\n",
       "    </tr>\n",
       "    <tr>\n",
       "      <th>5570</th>\n",
       "      <td>zwe</td>\n",
       "      <td>bcg</td>\n",
       "      <td>1989</td>\n",
       "      <td>90.0</td>\n",
       "    </tr>\n",
       "    <tr>\n",
       "      <th>5571</th>\n",
       "      <td>zwe</td>\n",
       "      <td>bcg</td>\n",
       "      <td>1988</td>\n",
       "      <td>89.0</td>\n",
       "    </tr>\n",
       "    <tr>\n",
       "      <th>5572</th>\n",
       "      <td>zwe</td>\n",
       "      <td>bcg</td>\n",
       "      <td>1987</td>\n",
       "      <td>94.0</td>\n",
       "    </tr>\n",
       "    <tr>\n",
       "      <th>5573</th>\n",
       "      <td>zwe</td>\n",
       "      <td>bcg</td>\n",
       "      <td>1986</td>\n",
       "      <td>94.0</td>\n",
       "    </tr>\n",
       "    <tr>\n",
       "      <th>5574</th>\n",
       "      <td>zwe</td>\n",
       "      <td>bcg</td>\n",
       "      <td>1985</td>\n",
       "      <td>76.0</td>\n",
       "    </tr>\n",
       "    <tr>\n",
       "      <th>5575</th>\n",
       "      <td>zwe</td>\n",
       "      <td>bcg</td>\n",
       "      <td>1984</td>\n",
       "      <td>69.0</td>\n",
       "    </tr>\n",
       "    <tr>\n",
       "      <th>5576</th>\n",
       "      <td>zwe</td>\n",
       "      <td>bcg</td>\n",
       "      <td>1983</td>\n",
       "      <td>67.0</td>\n",
       "    </tr>\n",
       "    <tr>\n",
       "      <th>5577</th>\n",
       "      <td>zwe</td>\n",
       "      <td>bcg</td>\n",
       "      <td>1982</td>\n",
       "      <td>65.0</td>\n",
       "    </tr>\n",
       "    <tr>\n",
       "      <th>5578</th>\n",
       "      <td>zwe</td>\n",
       "      <td>bcg</td>\n",
       "      <td>1981</td>\n",
       "      <td>64.0</td>\n",
       "    </tr>\n",
       "  </tbody>\n",
       "</table>\n",
       "<p>5579 rows × 4 columns</p>\n",
       "</div>"
      ],
      "text/plain": [
       "     country vaccine  year  immunization_coverage\n",
       "0        afg     bcg  2017                   74.0\n",
       "1        afg     bcg  2016                   74.0\n",
       "2        afg     bcg  2015                   74.0\n",
       "3        afg     bcg  2014                   74.0\n",
       "4        afg     bcg  2013                   72.0\n",
       "5        afg     bcg  2012                   78.0\n",
       "6        afg     bcg  2011                   71.0\n",
       "7        afg     bcg  2010                   68.0\n",
       "8        afg     bcg  2009                   64.0\n",
       "9        afg     bcg  2008                   66.0\n",
       "10       afg     bcg  2007                   60.0\n",
       "11       afg     bcg  2006                   60.0\n",
       "12       afg     bcg  2005                   57.0\n",
       "13       afg     bcg  2004                   51.0\n",
       "14       afg     bcg  2003                   44.0\n",
       "15       afg     bcg  2002                   46.0\n",
       "16       afg     bcg  2001                   43.0\n",
       "17       afg     bcg  2000                   30.0\n",
       "18       afg     bcg  1999                   38.0\n",
       "19       afg     bcg  1998                   35.0\n",
       "20       afg     bcg  1997                   43.0\n",
       "21       afg     bcg  1996                   47.0\n",
       "22       afg     bcg  1995                   31.0\n",
       "23       afg     bcg  1994                   15.0\n",
       "24       afg     bcg  1993                   17.0\n",
       "25       afg     bcg  1992                   19.0\n",
       "26       afg     bcg  1991                   21.0\n",
       "27       afg     bcg  1990                   30.0\n",
       "28       afg     bcg  1989                   38.0\n",
       "29       afg     bcg  1988                   40.0\n",
       "...      ...     ...   ...                    ...\n",
       "5549     zwe     bcg  2010                   99.0\n",
       "5550     zwe     bcg  2009                   90.0\n",
       "5551     zwe     bcg  2008                   91.0\n",
       "5552     zwe     bcg  2007                   87.0\n",
       "5553     zwe     bcg  2006                   84.0\n",
       "5554     zwe     bcg  2005                   80.0\n",
       "5555     zwe     bcg  2004                   76.0\n",
       "5556     zwe     bcg  2003                   78.0\n",
       "5557     zwe     bcg  2002                   80.0\n",
       "5558     zwe     bcg  2001                   82.0\n",
       "5559     zwe     bcg  2000                   84.0\n",
       "5560     zwe     bcg  1999                   86.0\n",
       "5561     zwe     bcg  1998                   88.0\n",
       "5562     zwe     bcg  1997                   92.0\n",
       "5563     zwe     bcg  1996                   96.0\n",
       "5564     zwe     bcg  1995                   96.0\n",
       "5565     zwe     bcg  1994                   95.0\n",
       "5566     zwe     bcg  1993                   95.0\n",
       "5567     zwe     bcg  1992                   91.0\n",
       "5568     zwe     bcg  1991                   91.0\n",
       "5569     zwe     bcg  1990                   91.0\n",
       "5570     zwe     bcg  1989                   90.0\n",
       "5571     zwe     bcg  1988                   89.0\n",
       "5572     zwe     bcg  1987                   94.0\n",
       "5573     zwe     bcg  1986                   94.0\n",
       "5574     zwe     bcg  1985                   76.0\n",
       "5575     zwe     bcg  1984                   69.0\n",
       "5576     zwe     bcg  1983                   67.0\n",
       "5577     zwe     bcg  1982                   65.0\n",
       "5578     zwe     bcg  1981                   64.0\n",
       "\n",
       "[5579 rows x 4 columns]"
      ]
     },
     "execution_count": 29,
     "metadata": {},
     "output_type": "execute_result"
    }
   ],
   "source": [
    "df"
   ]
  },
  {
   "cell_type": "code",
   "execution_count": null,
   "metadata": {},
   "outputs": [],
   "source": []
  },
  {
   "cell_type": "code",
   "execution_count": 30,
   "metadata": {},
   "outputs": [],
   "source": [
    "def process_dp(df_):\n",
    "    df = df_.copy()\n",
    "    df['country'] = df['iso3'].str.lower()\n",
    "    df['vaccine'] = df['vaccine'].str.lower()\n",
    "\n",
    "    df = df.drop(['unicef_region', 'iso3'], axis=1)\n",
    "\n",
    "    df = df.set_index(['country', 'vaccine'])\n",
    "    df = df.stack().reset_index()\n",
    "    df.columns = ['country', 'vaccine', 'year', 'immunization_coverage']\n",
    "    \n",
    "    return df"
   ]
  },
  {
   "cell_type": "code",
   "execution_count": 36,
   "metadata": {},
   "outputs": [],
   "source": [
    "res_df = []\n",
    "\n",
    "for t in tabs:\n",
    "    data = pd.read_excel(source, sheet_name=t)\n",
    "    res_df.append(process_dp(data))"
   ]
  },
  {
   "cell_type": "code",
   "execution_count": 39,
   "metadata": {},
   "outputs": [],
   "source": [
    "df_final = pd.concat(res_df, ignore_index=True, keys=['country', 'year', 'vaccine'])"
   ]
  },
  {
   "cell_type": "code",
   "execution_count": 41,
   "metadata": {
    "scrolled": false
   },
   "outputs": [],
   "source": [
    "df_final = df_final.sort_values(by=['country', 'vaccine', 'year'])"
   ]
  },
  {
   "cell_type": "code",
   "execution_count": 43,
   "metadata": {
    "scrolled": false
   },
   "outputs": [],
   "source": [
    "df_final.to_csv('../../ddf--datapoints--immunization_coverage--by--country--vaccine--year.csv', index=False)"
   ]
  },
  {
   "cell_type": "code",
   "execution_count": null,
   "metadata": {},
   "outputs": [],
   "source": []
  },
  {
   "cell_type": "code",
   "execution_count": 53,
   "metadata": {},
   "outputs": [],
   "source": [
    "# global and regional"
   ]
  },
  {
   "cell_type": "code",
   "execution_count": 54,
   "metadata": {},
   "outputs": [],
   "source": [
    "data_reg = pd.read_excel(source, sheet_name='global_regional')"
   ]
  },
  {
   "cell_type": "code",
   "execution_count": null,
   "metadata": {},
   "outputs": [],
   "source": []
  },
  {
   "cell_type": "code",
   "execution_count": 55,
   "metadata": {},
   "outputs": [],
   "source": [
    "df_reg = data_reg[['region', 'vaccine', 'year', 'coverage']].copy()"
   ]
  },
  {
   "cell_type": "code",
   "execution_count": 56,
   "metadata": {},
   "outputs": [],
   "source": [
    "df_gbl = data_reg[data_reg.region == 'Global'].copy()"
   ]
  },
  {
   "cell_type": "code",
   "execution_count": 58,
   "metadata": {},
   "outputs": [],
   "source": [
    "df_regs = data_reg[~(data_reg.region == 'Global')].copy()"
   ]
  },
  {
   "cell_type": "code",
   "execution_count": 61,
   "metadata": {},
   "outputs": [
    {
     "data": {
      "text/html": [
       "<div>\n",
       "<style scoped>\n",
       "    .dataframe tbody tr th:only-of-type {\n",
       "        vertical-align: middle;\n",
       "    }\n",
       "\n",
       "    .dataframe tbody tr th {\n",
       "        vertical-align: top;\n",
       "    }\n",
       "\n",
       "    .dataframe thead th {\n",
       "        text-align: right;\n",
       "    }\n",
       "</style>\n",
       "<table border=\"1\" class=\"dataframe\">\n",
       "  <thead>\n",
       "    <tr style=\"text-align: right;\">\n",
       "      <th></th>\n",
       "      <th>group</th>\n",
       "      <th>region</th>\n",
       "      <th>vaccine</th>\n",
       "      <th>year</th>\n",
       "      <th>coverage</th>\n",
       "    </tr>\n",
       "  </thead>\n",
       "  <tbody>\n",
       "    <tr>\n",
       "      <th>0</th>\n",
       "      <td>Global</td>\n",
       "      <td>Global</td>\n",
       "      <td>bcg</td>\n",
       "      <td>1980</td>\n",
       "      <td>15</td>\n",
       "    </tr>\n",
       "    <tr>\n",
       "      <th>1</th>\n",
       "      <td>Global</td>\n",
       "      <td>Global</td>\n",
       "      <td>dtp1</td>\n",
       "      <td>1980</td>\n",
       "      <td>31</td>\n",
       "    </tr>\n",
       "    <tr>\n",
       "      <th>2</th>\n",
       "      <td>Global</td>\n",
       "      <td>Global</td>\n",
       "      <td>dtp3</td>\n",
       "      <td>1980</td>\n",
       "      <td>21</td>\n",
       "    </tr>\n",
       "    <tr>\n",
       "      <th>3</th>\n",
       "      <td>Global</td>\n",
       "      <td>Global</td>\n",
       "      <td>mcv1</td>\n",
       "      <td>1980</td>\n",
       "      <td>17</td>\n",
       "    </tr>\n",
       "    <tr>\n",
       "      <th>4</th>\n",
       "      <td>Global</td>\n",
       "      <td>Global</td>\n",
       "      <td>pol3</td>\n",
       "      <td>1980</td>\n",
       "      <td>22</td>\n",
       "    </tr>\n",
       "  </tbody>\n",
       "</table>\n",
       "</div>"
      ],
      "text/plain": [
       "    group  region vaccine  year  coverage\n",
       "0  Global  Global     bcg  1980        15\n",
       "1  Global  Global    dtp1  1980        31\n",
       "2  Global  Global    dtp3  1980        21\n",
       "3  Global  Global    mcv1  1980        17\n",
       "4  Global  Global    pol3  1980        22"
      ]
     },
     "execution_count": 61,
     "metadata": {},
     "output_type": "execute_result"
    }
   ],
   "source": [
    "df_gbl.head()"
   ]
  },
  {
   "cell_type": "code",
   "execution_count": 62,
   "metadata": {},
   "outputs": [
    {
     "data": {
      "text/html": [
       "<div>\n",
       "<style scoped>\n",
       "    .dataframe tbody tr th:only-of-type {\n",
       "        vertical-align: middle;\n",
       "    }\n",
       "\n",
       "    .dataframe tbody tr th {\n",
       "        vertical-align: top;\n",
       "    }\n",
       "\n",
       "    .dataframe thead th {\n",
       "        text-align: right;\n",
       "    }\n",
       "</style>\n",
       "<table border=\"1\" class=\"dataframe\">\n",
       "  <thead>\n",
       "    <tr style=\"text-align: right;\">\n",
       "      <th></th>\n",
       "      <th>group</th>\n",
       "      <th>region</th>\n",
       "      <th>vaccine</th>\n",
       "      <th>year</th>\n",
       "      <th>coverage</th>\n",
       "    </tr>\n",
       "  </thead>\n",
       "  <tbody>\n",
       "    <tr>\n",
       "      <th>371</th>\n",
       "      <td>Unicef Region</td>\n",
       "      <td>East Asia &amp; Pacific</td>\n",
       "      <td>bcg</td>\n",
       "      <td>1980</td>\n",
       "      <td>16</td>\n",
       "    </tr>\n",
       "    <tr>\n",
       "      <th>372</th>\n",
       "      <td>Unicef Region</td>\n",
       "      <td>East Asia &amp; Pacific</td>\n",
       "      <td>dtp1</td>\n",
       "      <td>1980</td>\n",
       "      <td>13</td>\n",
       "    </tr>\n",
       "    <tr>\n",
       "      <th>373</th>\n",
       "      <td>Unicef Region</td>\n",
       "      <td>East Asia &amp; Pacific</td>\n",
       "      <td>dtp3</td>\n",
       "      <td>1980</td>\n",
       "      <td>9</td>\n",
       "    </tr>\n",
       "    <tr>\n",
       "      <th>374</th>\n",
       "      <td>Unicef Region</td>\n",
       "      <td>East Asia &amp; Pacific</td>\n",
       "      <td>mcv1</td>\n",
       "      <td>1980</td>\n",
       "      <td>4</td>\n",
       "    </tr>\n",
       "    <tr>\n",
       "      <th>375</th>\n",
       "      <td>Unicef Region</td>\n",
       "      <td>East Asia &amp; Pacific</td>\n",
       "      <td>pol3</td>\n",
       "      <td>1980</td>\n",
       "      <td>5</td>\n",
       "    </tr>\n",
       "  </tbody>\n",
       "</table>\n",
       "</div>"
      ],
      "text/plain": [
       "             group               region vaccine  year  coverage\n",
       "371  Unicef Region  East Asia & Pacific     bcg  1980        16\n",
       "372  Unicef Region  East Asia & Pacific    dtp1  1980        13\n",
       "373  Unicef Region  East Asia & Pacific    dtp3  1980         9\n",
       "374  Unicef Region  East Asia & Pacific    mcv1  1980         4\n",
       "375  Unicef Region  East Asia & Pacific    pol3  1980         5"
      ]
     },
     "execution_count": 62,
     "metadata": {},
     "output_type": "execute_result"
    }
   ],
   "source": [
    "df_regs.head()"
   ]
  },
  {
   "cell_type": "code",
   "execution_count": null,
   "metadata": {},
   "outputs": [],
   "source": []
  },
  {
   "cell_type": "code",
   "execution_count": 63,
   "metadata": {},
   "outputs": [],
   "source": [
    "df_gbl_ = df_gbl.drop('group', axis=1)\n",
    "df_gbl_['region'] = 'global'\n",
    "df_gbl_.columns = ['global', 'vaccine', 'year', 'immunization_coverage']"
   ]
  },
  {
   "cell_type": "code",
   "execution_count": 65,
   "metadata": {},
   "outputs": [],
   "source": [
    "df_gbl_.sort_values(by=['global', 'vaccine', 'year']).to_csv('../../ddf--datapoints--immunization_coverage--by--global--vaccine--year.csv', index=False)"
   ]
  },
  {
   "cell_type": "code",
   "execution_count": null,
   "metadata": {},
   "outputs": [],
   "source": []
  },
  {
   "cell_type": "code",
   "execution_count": 67,
   "metadata": {},
   "outputs": [
    {
     "data": {
      "text/plain": [
       "array(['East Asia & Pacific', 'Eastern & Southern Africa',\n",
       "       'Eastern Europe & Central Asia', 'Latin America & Caribbean',\n",
       "       'Middle East & North Africa', 'North America', 'South Asia',\n",
       "       'West & Central Africa', 'Western Europe'], dtype=object)"
      ]
     },
     "execution_count": 67,
     "metadata": {},
     "output_type": "execute_result"
    }
   ],
   "source": [
    "df_reg_ = df_regs.drop('group', axis=1)\n",
    "df_reg_.region.unique()"
   ]
  },
  {
   "cell_type": "code",
   "execution_count": 68,
   "metadata": {},
   "outputs": [],
   "source": [
    "from ddf_utils.str import to_concept_id"
   ]
  },
  {
   "cell_type": "code",
   "execution_count": 69,
   "metadata": {},
   "outputs": [],
   "source": [
    "df_reg_['region'] = df_reg_['region'].map(to_concept_id)"
   ]
  },
  {
   "cell_type": "code",
   "execution_count": 71,
   "metadata": {
    "scrolled": false
   },
   "outputs": [],
   "source": [
    "df_reg_.columns = ['region', 'vaccine', 'year', 'immunization_coverage']"
   ]
  },
  {
   "cell_type": "code",
   "execution_count": 72,
   "metadata": {},
   "outputs": [],
   "source": [
    "df_reg_.sort_values(by=['region', 'vaccine', 'year']).to_csv(\n",
    "    '../../ddf--datapoints--immunization_coverage--by--region--vaccine--year.csv', index=False)"
   ]
  },
  {
   "cell_type": "code",
   "execution_count": null,
   "metadata": {},
   "outputs": [],
   "source": []
  },
  {
   "cell_type": "code",
   "execution_count": null,
   "metadata": {},
   "outputs": [],
   "source": [
    "# entities "
   ]
  },
  {
   "cell_type": "code",
   "execution_count": 108,
   "metadata": {},
   "outputs": [],
   "source": [
    "cty_df = []\n",
    "\n",
    "for t in tabs:\n",
    "    data = pd.read_excel(source, sheet_name=t)\n",
    "    cty_df.append(data[['iso3', 'country']])"
   ]
  },
  {
   "cell_type": "code",
   "execution_count": 127,
   "metadata": {},
   "outputs": [],
   "source": [
    "country = pd.concat(cty_df, ignore_index=True, sort=False).drop_duplicates()"
   ]
  },
  {
   "cell_type": "code",
   "execution_count": 128,
   "metadata": {},
   "outputs": [
    {
     "data": {
      "text/html": [
       "<div>\n",
       "<style scoped>\n",
       "    .dataframe tbody tr th:only-of-type {\n",
       "        vertical-align: middle;\n",
       "    }\n",
       "\n",
       "    .dataframe tbody tr th {\n",
       "        vertical-align: top;\n",
       "    }\n",
       "\n",
       "    .dataframe thead th {\n",
       "        text-align: right;\n",
       "    }\n",
       "</style>\n",
       "<table border=\"1\" class=\"dataframe\">\n",
       "  <thead>\n",
       "    <tr style=\"text-align: right;\">\n",
       "      <th></th>\n",
       "      <th>iso3</th>\n",
       "      <th>country</th>\n",
       "    </tr>\n",
       "  </thead>\n",
       "  <tbody>\n",
       "    <tr>\n",
       "      <th>0</th>\n",
       "      <td>AFG</td>\n",
       "      <td>Afghanistan</td>\n",
       "    </tr>\n",
       "    <tr>\n",
       "      <th>1</th>\n",
       "      <td>ALB</td>\n",
       "      <td>Albania</td>\n",
       "    </tr>\n",
       "    <tr>\n",
       "      <th>2</th>\n",
       "      <td>DZA</td>\n",
       "      <td>Algeria</td>\n",
       "    </tr>\n",
       "    <tr>\n",
       "      <th>3</th>\n",
       "      <td>AGO</td>\n",
       "      <td>Angola</td>\n",
       "    </tr>\n",
       "    <tr>\n",
       "      <th>4</th>\n",
       "      <td>ARG</td>\n",
       "      <td>Argentina</td>\n",
       "    </tr>\n",
       "  </tbody>\n",
       "</table>\n",
       "</div>"
      ],
      "text/plain": [
       "  iso3      country\n",
       "0  AFG  Afghanistan\n",
       "1  ALB      Albania\n",
       "2  DZA      Algeria\n",
       "3  AGO       Angola\n",
       "4  ARG    Argentina"
      ]
     },
     "execution_count": 128,
     "metadata": {},
     "output_type": "execute_result"
    }
   ],
   "source": [
    "country.head()"
   ]
  },
  {
   "cell_type": "code",
   "execution_count": 129,
   "metadata": {},
   "outputs": [],
   "source": [
    "country.columns = ['country', 'name']\n",
    "\n",
    "country['country'] = country['country'].str.lower()"
   ]
  },
  {
   "cell_type": "code",
   "execution_count": 130,
   "metadata": {},
   "outputs": [],
   "source": [
    "country['is--country'] = 'TRUE'"
   ]
  },
  {
   "cell_type": "code",
   "execution_count": 131,
   "metadata": {},
   "outputs": [],
   "source": [
    "country.to_csv('../../ddf--entities--geo--country.csv', index=False)"
   ]
  },
  {
   "cell_type": "code",
   "execution_count": null,
   "metadata": {},
   "outputs": [],
   "source": []
  },
  {
   "cell_type": "code",
   "execution_count": 75,
   "metadata": {},
   "outputs": [],
   "source": [
    "gbl = df_gbl[['region']].drop_duplicates()"
   ]
  },
  {
   "cell_type": "code",
   "execution_count": 76,
   "metadata": {},
   "outputs": [],
   "source": [
    "gbl.columns = ['global']"
   ]
  },
  {
   "cell_type": "code",
   "execution_count": 77,
   "metadata": {},
   "outputs": [],
   "source": [
    "gbl['name'] = 'Global'\n",
    "gbl['global'] = 'global'\n",
    "gbl['is--global'] = 'TRUE'"
   ]
  },
  {
   "cell_type": "code",
   "execution_count": 86,
   "metadata": {},
   "outputs": [],
   "source": [
    "gbl.to_csv('../../ddf--entities--geo--global.csv', index=False)"
   ]
  },
  {
   "cell_type": "code",
   "execution_count": null,
   "metadata": {},
   "outputs": [],
   "source": []
  },
  {
   "cell_type": "code",
   "execution_count": 87,
   "metadata": {},
   "outputs": [],
   "source": [
    "reg = df_reg[['region']].drop_duplicates()"
   ]
  },
  {
   "cell_type": "code",
   "execution_count": 88,
   "metadata": {},
   "outputs": [],
   "source": [
    "reg.columns = ['name']"
   ]
  },
  {
   "cell_type": "code",
   "execution_count": 89,
   "metadata": {},
   "outputs": [],
   "source": [
    "reg['region'] = reg['name'].map(to_concept_id)"
   ]
  },
  {
   "cell_type": "code",
   "execution_count": 90,
   "metadata": {},
   "outputs": [],
   "source": [
    "reg['is--region'] = 'TRUE'"
   ]
  },
  {
   "cell_type": "code",
   "execution_count": 95,
   "metadata": {},
   "outputs": [],
   "source": [
    "reg[['region', 'name', 'is--region']].to_csv('../../ddf--entities--geo--region.csv', index=False)"
   ]
  },
  {
   "cell_type": "code",
   "execution_count": null,
   "metadata": {},
   "outputs": [],
   "source": []
  },
  {
   "cell_type": "code",
   "execution_count": 92,
   "metadata": {},
   "outputs": [],
   "source": [
    "vacc = pd.DataFrame(tabs)"
   ]
  },
  {
   "cell_type": "code",
   "execution_count": 96,
   "metadata": {},
   "outputs": [],
   "source": [
    "vacc.columns = ['name']\n",
    "vacc['vaccine'] = vacc['name'].str.lower()"
   ]
  },
  {
   "cell_type": "code",
   "execution_count": 98,
   "metadata": {},
   "outputs": [],
   "source": [
    "vacc[['vaccine', 'name']].to_csv('../../ddf--entities--vaccine.csv', index=False)"
   ]
  },
  {
   "cell_type": "code",
   "execution_count": null,
   "metadata": {},
   "outputs": [],
   "source": []
  },
  {
   "cell_type": "code",
   "execution_count": null,
   "metadata": {},
   "outputs": [],
   "source": []
  },
  {
   "cell_type": "code",
   "execution_count": 100,
   "metadata": {},
   "outputs": [],
   "source": [
    "# concepts"
   ]
  },
  {
   "cell_type": "code",
   "execution_count": 104,
   "metadata": {},
   "outputs": [],
   "source": [
    "cdf1 = pd.DataFrame([\n",
    "    ['immunization_coverage', 'Percentage of live births who recived vaccine', 'measure']\n",
    "], columns=['concept', 'name', 'concept_type'])\n",
    "\n",
    "cdf2 = pd.DataFrame([\n",
    "    ['name', 'Name', 'string'],\n",
    "    ['year', 'Year', 'time'],\n",
    "    ['domain', 'Domain', 'string'],\n",
    "], columns=['concept', 'name', 'concept_type'])\n",
    "\n",
    "cdf3 = pd.DataFrame([\n",
    "    ['geo', 'Geo', 'entity_domain', ''],\n",
    "    ['country', 'Country', 'entity_set', 'geo'],\n",
    "    ['region', 'Region', 'entity_set', 'geo'],\n",
    "    ['global', 'Global', 'entity_set', 'geo'],\n",
    "    ['vaccine', 'Vaccine', 'entity_domain', '']\n",
    "], columns=['concept', 'name', 'concept_type', 'domain'])"
   ]
  },
  {
   "cell_type": "code",
   "execution_count": 105,
   "metadata": {},
   "outputs": [],
   "source": [
    "cdf = pd.concat([cdf1, cdf2, cdf3], ignore_index=True, sort=False)"
   ]
  },
  {
   "cell_type": "code",
   "execution_count": 106,
   "metadata": {},
   "outputs": [
    {
     "data": {
      "text/html": [
       "<div>\n",
       "<style scoped>\n",
       "    .dataframe tbody tr th:only-of-type {\n",
       "        vertical-align: middle;\n",
       "    }\n",
       "\n",
       "    .dataframe tbody tr th {\n",
       "        vertical-align: top;\n",
       "    }\n",
       "\n",
       "    .dataframe thead th {\n",
       "        text-align: right;\n",
       "    }\n",
       "</style>\n",
       "<table border=\"1\" class=\"dataframe\">\n",
       "  <thead>\n",
       "    <tr style=\"text-align: right;\">\n",
       "      <th></th>\n",
       "      <th>concept</th>\n",
       "      <th>name</th>\n",
       "      <th>concept_type</th>\n",
       "      <th>domain</th>\n",
       "    </tr>\n",
       "  </thead>\n",
       "  <tbody>\n",
       "    <tr>\n",
       "      <th>0</th>\n",
       "      <td>immunization_coverage</td>\n",
       "      <td>Percentage of live births who recived vaccine</td>\n",
       "      <td>measure</td>\n",
       "      <td>NaN</td>\n",
       "    </tr>\n",
       "    <tr>\n",
       "      <th>1</th>\n",
       "      <td>name</td>\n",
       "      <td>Name</td>\n",
       "      <td>string</td>\n",
       "      <td>NaN</td>\n",
       "    </tr>\n",
       "    <tr>\n",
       "      <th>2</th>\n",
       "      <td>year</td>\n",
       "      <td>Year</td>\n",
       "      <td>time</td>\n",
       "      <td>NaN</td>\n",
       "    </tr>\n",
       "    <tr>\n",
       "      <th>3</th>\n",
       "      <td>domain</td>\n",
       "      <td>Domain</td>\n",
       "      <td>string</td>\n",
       "      <td>NaN</td>\n",
       "    </tr>\n",
       "    <tr>\n",
       "      <th>4</th>\n",
       "      <td>geo</td>\n",
       "      <td>Geo</td>\n",
       "      <td>entity_domain</td>\n",
       "      <td></td>\n",
       "    </tr>\n",
       "    <tr>\n",
       "      <th>5</th>\n",
       "      <td>country</td>\n",
       "      <td>Country</td>\n",
       "      <td>entity_set</td>\n",
       "      <td>geo</td>\n",
       "    </tr>\n",
       "    <tr>\n",
       "      <th>6</th>\n",
       "      <td>region</td>\n",
       "      <td>Region</td>\n",
       "      <td>entity_set</td>\n",
       "      <td>geo</td>\n",
       "    </tr>\n",
       "    <tr>\n",
       "      <th>7</th>\n",
       "      <td>global</td>\n",
       "      <td>Global</td>\n",
       "      <td>entity_set</td>\n",
       "      <td>geo</td>\n",
       "    </tr>\n",
       "    <tr>\n",
       "      <th>8</th>\n",
       "      <td>vaccine</td>\n",
       "      <td>Vaccine</td>\n",
       "      <td>entity_domain</td>\n",
       "      <td></td>\n",
       "    </tr>\n",
       "  </tbody>\n",
       "</table>\n",
       "</div>"
      ],
      "text/plain": [
       "                 concept                                           name  \\\n",
       "0  immunization_coverage  Percentage of live births who recived vaccine   \n",
       "1                   name                                           Name   \n",
       "2                   year                                           Year   \n",
       "3                 domain                                         Domain   \n",
       "4                    geo                                            Geo   \n",
       "5                country                                        Country   \n",
       "6                 region                                         Region   \n",
       "7                 global                                         Global   \n",
       "8                vaccine                                        Vaccine   \n",
       "\n",
       "    concept_type domain  \n",
       "0        measure    NaN  \n",
       "1         string    NaN  \n",
       "2           time    NaN  \n",
       "3         string    NaN  \n",
       "4  entity_domain         \n",
       "5     entity_set    geo  \n",
       "6     entity_set    geo  \n",
       "7     entity_set    geo  \n",
       "8  entity_domain         "
      ]
     },
     "execution_count": 106,
     "metadata": {},
     "output_type": "execute_result"
    }
   ],
   "source": [
    "cdf"
   ]
  },
  {
   "cell_type": "code",
   "execution_count": 107,
   "metadata": {},
   "outputs": [],
   "source": [
    "cdf.to_csv('../../ddf--concepts.csv', index=False)"
   ]
  },
  {
   "cell_type": "code",
   "execution_count": null,
   "metadata": {},
   "outputs": [],
   "source": []
  },
  {
   "cell_type": "code",
   "execution_count": 73,
   "metadata": {},
   "outputs": [],
   "source": [
    "!open ../../"
   ]
  },
  {
   "cell_type": "code",
   "execution_count": null,
   "metadata": {},
   "outputs": [],
   "source": []
  }
 ],
 "metadata": {
  "kernelspec": {
   "display_name": "Python 3",
   "language": "python",
   "name": "python3"
  },
  "language_info": {
   "codemirror_mode": {
    "name": "ipython",
    "version": 3
   },
   "file_extension": ".py",
   "mimetype": "text/x-python",
   "name": "python",
   "nbconvert_exporter": "python",
   "pygments_lexer": "ipython3",
   "version": "3.6.7"
  }
 },
 "nbformat": 4,
 "nbformat_minor": 2
}
